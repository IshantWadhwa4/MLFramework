{
  "nbformat": 4,
  "nbformat_minor": 0,
  "metadata": {
    "colab": {
      "name": "ML-FrameWork-Tasks.ipynb",
      "provenance": [],
      "collapsed_sections": [
        "is7NrulvhGVU",
        "jWqL939thF_I",
        "Dv9IjMoxjv5O",
        "9N9mbGNpjwUB",
        "SL_wgAmenvS5",
        "0erI73xMnvhj",
        "Gx8zp5IK6suW",
        "Fb1rwqn96s_u",
        "nuHb6P_y9JdW",
        "e5to9C-7-nFC"
      ],
      "authorship_tag": "ABX9TyNGmUuncBX20yIOnyiDjOtP",
      "include_colab_link": true
    },
    "kernelspec": {
      "name": "python3",
      "display_name": "Python 3"
    }
  },
  "cells": [
    {
      "cell_type": "markdown",
      "metadata": {
        "id": "view-in-github",
        "colab_type": "text"
      },
      "source": [
        "<a href=\"https://colab.research.google.com/github/IshantWadhwa4/MLFramework/blob/master/ML_FrameWork_Tasks.ipynb\" target=\"_parent\"><img src=\"https://colab.research.google.com/assets/colab-badge.svg\" alt=\"Open In Colab\"/></a>"
      ]
    },
    {
      "cell_type": "markdown",
      "metadata": {
        "id": "7ndvn7Y-hGgF",
        "colab_type": "text"
      },
      "source": [
        "# Machine Learning Framework \n",
        "\n"
      ]
    },
    {
      "cell_type": "markdown",
      "metadata": {
        "id": "sa1JCjW9hGan",
        "colab_type": "text"
      },
      "source": [
        "## Table of Contents\n",
        "\n",
        "1.   [Get Data](#Section1)\n",
        "2.   [Basic EDA](#Section2)\n",
        "3.   [Pre-Modeling](#Section3)\n",
        "4.   [Modeling](#Section4)\n",
        "5.   [Post Modeling](#Section5)"
      ]
    },
    {
      "cell_type": "markdown",
      "metadata": {
        "id": "is7NrulvhGVU",
        "colab_type": "text"
      },
      "source": [
        "<a id = Section1></a>\n",
        "## 1. Get Data"
      ]
    },
    {
      "cell_type": "markdown",
      "metadata": {
        "id": "zurboFF4hGQ3",
        "colab_type": "text"
      },
      "source": [
        "### Get Data from Database"
      ]
    },
    {
      "cell_type": "markdown",
      "metadata": {
        "id": "hwz5exOHhGMA",
        "colab_type": "text"
      },
      "source": [
        "### Get Data from CSV/Text/Excel Files"
      ]
    },
    {
      "cell_type": "markdown",
      "metadata": {
        "id": "B3QItnuzhGHt",
        "colab_type": "text"
      },
      "source": [
        "### Get Data from API's"
      ]
    },
    {
      "cell_type": "markdown",
      "metadata": {
        "id": "WdyTs6WUhGDb",
        "colab_type": "text"
      },
      "source": [
        "### Web scraping"
      ]
    },
    {
      "cell_type": "markdown",
      "metadata": {
        "id": "jWqL939thF_I",
        "colab_type": "text"
      },
      "source": [
        "<a id = Section2></a>\n",
        "## 2. Basic EDA"
      ]
    },
    {
      "cell_type": "markdown",
      "metadata": {
        "id": "BwXHPXThhF6G",
        "colab_type": "text"
      },
      "source": [
        "### 1. Pandas Profiling"
      ]
    },
    {
      "cell_type": "markdown",
      "metadata": {
        "id": "MCibNQ17hFyo",
        "colab_type": "text"
      },
      "source": [
        "### 2. DataFrame info,describe,head "
      ]
    },
    {
      "cell_type": "markdown",
      "metadata": {
        "id": "aOwU1HKKhFpN",
        "colab_type": "text"
      },
      "source": [
        "### 3. Null and Zero values"
      ]
    },
    {
      "cell_type": "markdown",
      "metadata": {
        "id": "Dv9IjMoxjv5O",
        "colab_type": "text"
      },
      "source": [
        "### 4. Distribution of Data Visualization"
      ]
    },
    {
      "cell_type": "markdown",
      "metadata": {
        "id": "_17fwdfnjv8d",
        "colab_type": "text"
      },
      "source": [
        "#### 4.1. Catagorical Data Distribution Single column\n",
        "    "
      ]
    },
    {
      "cell_type": "markdown",
      "metadata": {
        "id": "VH9tcvkqjv_i",
        "colab_type": "text"
      },
      "source": [
        "#### 4.2. Numerical Data Distribution Single column\n",
        "    "
      ]
    },
    {
      "cell_type": "markdown",
      "metadata": {
        "id": "k0gvNF_1jwC2",
        "colab_type": "text"
      },
      "source": [
        "#### 4.3. scatter plot relation b/w columns"
      ]
    },
    {
      "cell_type": "markdown",
      "metadata": {
        "id": "lPJEXT-HjwF4",
        "colab_type": "text"
      },
      "source": [
        "#### 4.4. Heatmap for corelation"
      ]
    },
    {
      "cell_type": "markdown",
      "metadata": {
        "id": "HKSgLfiYjwJ3",
        "colab_type": "text"
      },
      "source": [
        "#### 4.5. Box plot for Outliars"
      ]
    },
    {
      "cell_type": "markdown",
      "metadata": {
        "id": "jCnbdRp_oXhx",
        "colab_type": "text"
      },
      "source": [
        "### 5. Datatype of Columns"
      ]
    },
    {
      "cell_type": "markdown",
      "metadata": {
        "id": "Y-MFaCOWjwQy",
        "colab_type": "text"
      },
      "source": [
        "### 6. Some questions you want answers from your data "
      ]
    },
    {
      "cell_type": "markdown",
      "metadata": {
        "id": "9N9mbGNpjwUB",
        "colab_type": "text"
      },
      "source": [
        "<a id = Section3></a>\n",
        "## 3. Pre Modeling"
      ]
    },
    {
      "cell_type": "markdown",
      "metadata": {
        "id": "-7ectqJrjwbH",
        "colab_type": "text"
      },
      "source": [
        "### 1. Solve for null and zero values"
      ]
    },
    {
      "cell_type": "markdown",
      "metadata": {
        "id": "cbsQt6xQnvMf",
        "colab_type": "text"
      },
      "source": [
        "### 2. Solve for Outliars"
      ]
    },
    {
      "cell_type": "markdown",
      "metadata": {
        "id": "0PTzV_xSnvPb",
        "colab_type": "text"
      },
      "source": [
        "### 3. Solve for Dis-balalance Data"
      ]
    },
    {
      "cell_type": "markdown",
      "metadata": {
        "id": "sWhcJc82qb0R",
        "colab_type": "text"
      },
      "source": [
        "### 4. Binning"
      ]
    },
    {
      "cell_type": "markdown",
      "metadata": {
        "id": "SL_wgAmenvS5",
        "colab_type": "text"
      },
      "source": [
        "### 5. Feature Engineering "
      ]
    },
    {
      "cell_type": "markdown",
      "metadata": {
        "id": "tpHGMZRDnvVp",
        "colab_type": "text"
      },
      "source": [
        "#### 5.1. Grouping Operations"
      ]
    },
    {
      "cell_type": "markdown",
      "metadata": {
        "id": "cw_W-pyOnvYr",
        "colab_type": "text"
      },
      "source": [
        "#### 5.2. Feature Split"
      ]
    },
    {
      "cell_type": "markdown",
      "metadata": {
        "id": "e1YXeC__nvba",
        "colab_type": "text"
      },
      "source": [
        "#### 5.3. Extracting Date"
      ]
    },
    {
      "cell_type": "markdown",
      "metadata": {
        "id": "0k8YX_gKnveT",
        "colab_type": "text"
      },
      "source": [
        "#### Explore featuretools lib\n"
      ]
    },
    {
      "cell_type": "markdown",
      "metadata": {
        "id": "0erI73xMnvhj",
        "colab_type": "text"
      },
      "source": [
        "### 6.Feature Selection\n"
      ]
    },
    {
      "cell_type": "markdown",
      "metadata": {
        "id": "WHrmiYyVnvlV",
        "colab_type": "text"
      },
      "source": [
        "#### 6.1. Correlation "
      ]
    },
    {
      "cell_type": "markdown",
      "metadata": {
        "id": "uv_6uutjnvpY",
        "colab_type": "text"
      },
      "source": [
        "#### 6.2. Chi-Squared"
      ]
    },
    {
      "cell_type": "markdown",
      "metadata": {
        "id": "ap5bm63G6UlT",
        "colab_type": "text"
      },
      "source": [
        "#### 6.3. Recursive Feature Elimination"
      ]
    },
    {
      "cell_type": "markdown",
      "metadata": {
        "id": "wvitzNpF6UsI",
        "colab_type": "text"
      },
      "source": [
        "#### 6.4. Lasso: SelectFromModel"
      ]
    },
    {
      "cell_type": "markdown",
      "metadata": {
        "id": "Dx7kGQ2O6Uwf",
        "colab_type": "text"
      },
      "source": [
        "#### 6.5. Tree-based: SelectFromModel"
      ]
    },
    {
      "cell_type": "markdown",
      "metadata": {
        "id": "rrWFyGFH6srZ",
        "colab_type": "text"
      },
      "source": [
        "#### We can use above all"
      ]
    },
    {
      "cell_type": "markdown",
      "metadata": {
        "id": "Gx8zp5IK6suW",
        "colab_type": "text"
      },
      "source": [
        "### 7. Encoding"
      ]
    },
    {
      "cell_type": "markdown",
      "metadata": {
        "id": "Xea6nqLl6sxN",
        "colab_type": "text"
      },
      "source": [
        "#### 7.1 One-Hot Encoding"
      ]
    },
    {
      "cell_type": "markdown",
      "metadata": {
        "id": "k3gVIFiJ6s0B",
        "colab_type": "text"
      },
      "source": [
        "#### 7.2 Label Encoding "
      ]
    },
    {
      "cell_type": "markdown",
      "metadata": {
        "id": "IU2VugiA6s25",
        "colab_type": "text"
      },
      "source": [
        "#### 7.3 Helmert Encoding"
      ]
    },
    {
      "cell_type": "markdown",
      "metadata": {
        "id": "L7CgOLwb6s5q",
        "colab_type": "text"
      },
      "source": [
        "#### 7.4 Hashing Encoding"
      ]
    },
    {
      "cell_type": "markdown",
      "metadata": {
        "id": "7FojjFMX6s8y",
        "colab_type": "text"
      },
      "source": [
        "#### 7.5 M-estimator Encoding"
      ]
    },
    {
      "cell_type": "markdown",
      "metadata": {
        "id": "Fb1rwqn96s_u",
        "colab_type": "text"
      },
      "source": [
        "### 8. Dimensionality Reduction"
      ]
    },
    {
      "cell_type": "markdown",
      "metadata": {
        "id": "wnIFm-KG6tDo",
        "colab_type": "text"
      },
      "source": [
        "#### 8.1. Principal Component Analysis(PCA)"
      ]
    },
    {
      "cell_type": "markdown",
      "metadata": {
        "id": "hoGIZl456tQW",
        "colab_type": "text"
      },
      "source": [
        "#### 8.2 Linear Discriminant Analysis (LDA)"
      ]
    },
    {
      "cell_type": "markdown",
      "metadata": {
        "id": "SOrMVvoB9JW6",
        "colab_type": "text"
      },
      "source": [
        "### 9. Scaling of data"
      ]
    },
    {
      "cell_type": "markdown",
      "metadata": {
        "id": "OSpW_Lyw9JZ-",
        "colab_type": "text"
      },
      "source": [
        "### 10. Log Trasformation"
      ]
    },
    {
      "cell_type": "markdown",
      "metadata": {
        "id": "nuHb6P_y9JdW",
        "colab_type": "text"
      },
      "source": [
        "<a id = Section4></a>\n",
        "## 4. Modeling"
      ]
    },
    {
      "cell_type": "markdown",
      "metadata": {
        "id": "HX7NdGy19Jgc",
        "colab_type": "text"
      },
      "source": [
        "### 1. Data Spliting"
      ]
    },
    {
      "cell_type": "markdown",
      "metadata": {
        "id": "o1gF0AeY9JkA",
        "colab_type": "text"
      },
      "source": [
        "### 2. Cross Validation "
      ]
    },
    {
      "cell_type": "markdown",
      "metadata": {
        "id": "jQKvm5bv9Jnf",
        "colab_type": "text"
      },
      "source": [
        "### 3. Grid Search"
      ]
    },
    {
      "cell_type": "markdown",
      "metadata": {
        "id": "LmkKBl429Jrc",
        "colab_type": "text"
      },
      "source": [
        "### 4. List of Model and Parameters"
      ]
    },
    {
      "cell_type": "markdown",
      "metadata": {
        "id": "a34RBvLz9JxZ",
        "colab_type": "text"
      },
      "source": [
        "### 5. Model *Libs*"
      ]
    },
    {
      "cell_type": "markdown",
      "metadata": {
        "id": "ag1b7XzJ-nCF",
        "colab_type": "text"
      },
      "source": [
        "### 6. Model Implementation"
      ]
    },
    {
      "cell_type": "markdown",
      "metadata": {
        "id": "e5to9C-7-nFC",
        "colab_type": "text"
      },
      "source": [
        "<a id = Section5></a>\n",
        "## 5. Post Modeling"
      ]
    },
    {
      "cell_type": "markdown",
      "metadata": {
        "id": "oBY-o1ox-nLQ",
        "colab_type": "text"
      },
      "source": [
        "### 1. Accuracy"
      ]
    },
    {
      "cell_type": "markdown",
      "metadata": {
        "id": "TWM__0yD-nPT",
        "colab_type": "text"
      },
      "source": [
        "### 2. Confusion Metrics"
      ]
    },
    {
      "cell_type": "markdown",
      "metadata": {
        "id": "6QjjIqTn-nSx",
        "colab_type": "text"
      },
      "source": [
        "### 3. Precession, Recall, F1, AUC ROC"
      ]
    },
    {
      "cell_type": "markdown",
      "metadata": {
        "id": "CcpQ_wS7-nV_",
        "colab_type": "text"
      },
      "source": [
        "### 4. RMSE"
      ]
    },
    {
      "cell_type": "markdown",
      "metadata": {
        "id": "wtt-0T6MAMZh",
        "colab_type": "text"
      },
      "source": [
        "## 6. Model Deployment "
      ]
    },
    {
      "cell_type": "markdown",
      "metadata": {
        "id": "oPl3IGEBAMeM",
        "colab_type": "text"
      },
      "source": [
        "## 7. Create Dashbord"
      ]
    }
  ]
}