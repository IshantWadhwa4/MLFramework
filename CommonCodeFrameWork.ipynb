{
  "nbformat": 4,
  "nbformat_minor": 0,
  "metadata": {
    "colab": {
      "name": "CommonCodeFrameWork.ipynb",
      "provenance": [],
      "collapsed_sections": [
        "Cvw5HcaD4SgS"
      ],
      "authorship_tag": "ABX9TyOvprRCLAUNDxOKwtwJd3rN",
      "include_colab_link": true
    },
    "kernelspec": {
      "name": "python3",
      "display_name": "Python 3"
    }
  },
  "cells": [
    {
      "cell_type": "markdown",
      "metadata": {
        "id": "view-in-github",
        "colab_type": "text"
      },
      "source": [
        "<a href=\"https://colab.research.google.com/github/IshantWadhwa4/MLFramework/blob/master/CommonCodeFrameWork.ipynb\" target=\"_parent\"><img src=\"https://colab.research.google.com/assets/colab-badge.svg\" alt=\"Open In Colab\"/></a>"
      ]
    },
    {
      "cell_type": "markdown",
      "metadata": {
        "id": "HDVuWirW97n4",
        "colab_type": "text"
      },
      "source": [
        "# Visualization"
      ]
    },
    {
      "cell_type": "code",
      "metadata": {
        "id": "z-2D_WEDjWQq",
        "colab_type": "code",
        "outputId": "bafaf57f-5fad-488e-da8d-99743b6d7f6f",
        "colab": {
          "base_uri": "https://localhost:8080/",
          "height": 35
        }
      },
      "source": [
        "# plot box graph to check if there any outlier or not\n",
        "\n",
        "#import seaborn as sns\n",
        "#import matplotlib.pyplot as plt\n",
        "def plot_Outlier_BoxPlot(df):\n",
        "  for col in df.columns:\n",
        "    sns.boxplot(y=col,data=df)\n",
        "    plt.show()\n"
      ],
      "execution_count": 0,
      "outputs": [
        {
          "output_type": "stream",
          "text": [
            "ERROR! Session/line number was not unique in database. History logging moved to new session 59\n"
          ],
          "name": "stdout"
        }
      ]
    },
    {
      "cell_type": "code",
      "metadata": {
        "id": "me8cjLHwlqvK",
        "colab_type": "code",
        "colab": {}
      },
      "source": [
        "# Plot corelation b/w continous variables\n",
        "def plot_correlation_heatmap(df):\n",
        "  corr_df = df.corr()\n",
        "  sns.heatmap(corr_df)\n",
        "  plt.show()"
      ],
      "execution_count": 0,
      "outputs": []
    },
    {
      "cell_type": "code",
      "metadata": {
        "id": "5FAKpkR22p-V",
        "colab_type": "code",
        "colab": {}
      },
      "source": [
        "# scatter plot between given columns\n",
        "# import plotly_express as px\n",
        "\n",
        "def plot_scatter_plotly(df,list_columns=[]):\n",
        "  if list_columns=[] :\n",
        "     px.scatter_matrix(df)\n",
        "  else:\n",
        "    px.scatter_matrix(df[list_columns])\n"
      ],
      "execution_count": 0,
      "outputs": []
    },
    {
      "cell_type": "code",
      "metadata": {
        "id": "2Qw3oPmxkKoB",
        "colab_type": "code",
        "colab": {}
      },
      "source": [
        "# create Heatmap for highly co-related(given threshold) columns\n",
        "# seaborn pandas and numpy\n",
        "\n",
        "def create_seaborn_heatmap(df,posThreshold,negThreshold):\n",
        "  '''\n",
        "      create Heatmap for highly co-related(given threshold) columns\n",
        "\n",
        "      Input: dataframe, positive threshold, negitive threshold\n",
        "      Plot: Heatmap\n",
        "  '''\n",
        "  tempdf = df[(df > posThreshold) | (df < -negThreshold)]\n",
        "  tempdf.replace(to_replace=1,value=np.nan,inplace=True)\n",
        "  tempdf.dropna(axis=1,how='all',inplace=True)\n",
        "  tempdf.dropna(axis=0,how='all',inplace=True)\n",
        "  sns.heatmap(tempdf)\n",
        "\n",
        "\n"
      ],
      "execution_count": 0,
      "outputs": []
    },
    {
      "cell_type": "code",
      "metadata": {
        "id": "XvS-Eyphyr5_",
        "colab_type": "code",
        "colab": {}
      },
      "source": [
        ""
      ],
      "execution_count": 0,
      "outputs": []
    },
    {
      "cell_type": "markdown",
      "metadata": {
        "id": "sbWme4Rjkp_n",
        "colab_type": "text"
      },
      "source": [
        "# Pre Modeling functions"
      ]
    },
    {
      "cell_type": "code",
      "metadata": {
        "id": "-UMQF8Z4-ACw",
        "colab_type": "code",
        "colab": {}
      },
      "source": [
        "# if data is large and you want sample from it \n",
        "\n",
        "def data_sampling(df,sample_size):\n",
        "  '''\n",
        "      you want sample from data frame.\n",
        "\n",
        "      Input: df is data frame\n",
        "            sample_size id how much % of data you want if you want 50% than it is .5\n",
        "      output: df of sample size\n",
        " \n",
        "  '''\n",
        "  return df.sample(frac = sample_size).reset_index(drop=True)\n",
        "\n"
      ],
      "execution_count": 0,
      "outputs": []
    },
    {
      "cell_type": "code",
      "metadata": {
        "id": "IDB2er9bFTdL",
        "colab_type": "code",
        "colab": {}
      },
      "source": [
        "# LIb : need pandas lib for this function.\n",
        "# Parameters : Only required dataframe for which you want zeros and null for each column\n",
        "# return: dataframe with number of zeros and null\n",
        "\n",
        "def get_number_zeros_null(df):\n",
        "  '''\n",
        "       LIb : need pandas lib for this function.\n",
        "\n",
        "       Input : Only required dataframe for which you want zeros and null for each column       \n",
        "       Output: dataframe with number of zeros and null\n",
        "  '''\n",
        "  null_zero_dict={ }\n",
        "  null_zero_dict['Number_of_nulls'] = df.isnull().sum()\n",
        "  null_zero_dict['Number_of_zeros'] = (df==0).astype(int).sum()\n",
        "  return pd.DataFrame(null_zero_dict).T\n"
      ],
      "execution_count": 0,
      "outputs": []
    },
    {
      "cell_type": "code",
      "metadata": {
        "id": "-ck0ZnKk5wTv",
        "colab_type": "code",
        "colab": {}
      },
      "source": [
        "# Get count of class in given catagorical column. Reqire Pandas lib.\n",
        "def get_count_class_catagColumn(column_values):\n",
        "  '''\n",
        "    Get count of class in given catagorical column. Reqire Pandas lib.\n",
        "\n",
        "    Input:  column values(df['columnName'])\n",
        "    output: Pandas series object with count of each class in the column.\n",
        "            \n",
        "  '''\n",
        "  return pd.value_counts(column_values)"
      ],
      "execution_count": 0,
      "outputs": []
    },
    {
      "cell_type": "code",
      "metadata": {
        "id": "AXeTxQdQ5YTy",
        "colab_type": "code",
        "colab": {}
      },
      "source": [
        "# convert type of columns\n",
        "\n",
        "def convert_type(df,list_column,list_type):\n",
        "  '''\n",
        "    convert column's data type\n",
        "    \n",
        "    Input: dataframe, list of columns you want to convert, type in which you want to convert\n",
        "    output: pandas data frame   \n",
        "  '''\n",
        "  for k,col in enumerate(list_column):\n",
        "    df[col] = df[col].astype(list_type[k])\n",
        "  return df"
      ],
      "execution_count": 0,
      "outputs": []
    },
    {
      "cell_type": "code",
      "metadata": {
        "id": "IPYor2lT-Wvf",
        "colab_type": "code",
        "colab": {}
      },
      "source": [
        ""
      ],
      "execution_count": 0,
      "outputs": []
    },
    {
      "cell_type": "code",
      "metadata": {
        "id": "V51gYrYV43vt",
        "colab_type": "code",
        "colab": {}
      },
      "source": [
        "# In classification problem if number of classes are unbalanced\n",
        "\n"
      ],
      "execution_count": 0,
      "outputs": []
    },
    {
      "cell_type": "markdown",
      "metadata": {
        "id": "W_Q3iD-0CAGY",
        "colab_type": "text"
      },
      "source": [
        "# Model Prepration"
      ]
    },
    {
      "cell_type": "markdown",
      "metadata": {
        "id": "RTrnT4a4zFJu",
        "colab_type": "text"
      },
      "source": [
        "### Model Spliting"
      ]
    },
    {
      "cell_type": "code",
      "metadata": {
        "id": "7dlLDeCqzMh3",
        "colab_type": "code",
        "colab": {}
      },
      "source": [
        "\n",
        "from sklearn.model_selection import train_test_split\n",
        "\n",
        "def model_split_train_test(df,target_column_name,test_size):\n",
        "  X = df.drop(target_column_name,axis=1)\n",
        "  y = df[target_column_name]\n",
        "  return train_test_split(X,y,test_size = test_size,random_state = 42,stratify = y)\n",
        "\n",
        "\n"
      ],
      "execution_count": 0,
      "outputs": []
    },
    {
      "cell_type": "code",
      "metadata": {
        "id": "sqB-iYDSzMs3",
        "colab_type": "code",
        "colab": {}
      },
      "source": [
        "from sklearn.model_selection import ShuffleSplit\n",
        "\n",
        "def model_shuffleSplit_train_test(splits = 10,test_size=.3):\n",
        "  return ShuffleSplit(n_splits = splits, test_size = test_size, train_size = 1-test_size, random_state = 42 )"
      ],
      "execution_count": 0,
      "outputs": []
    },
    {
      "cell_type": "markdown",
      "metadata": {
        "id": "Mqo4_9XsUibV",
        "colab_type": "text"
      },
      "source": [
        "### Model Encoding"
      ]
    },
    {
      "cell_type": "code",
      "metadata": {
        "id": "DvJY9LdLUklp",
        "colab_type": "code",
        "colab": {}
      },
      "source": [
        ""
      ],
      "execution_count": 0,
      "outputs": []
    },
    {
      "cell_type": "code",
      "metadata": {
        "id": "MNqCg83rUkqF",
        "colab_type": "code",
        "colab": {}
      },
      "source": [
        ""
      ],
      "execution_count": 0,
      "outputs": []
    },
    {
      "cell_type": "markdown",
      "metadata": {
        "id": "baR_0pCRT9tU",
        "colab_type": "text"
      },
      "source": [
        "### Model Selection"
      ]
    },
    {
      "cell_type": "code",
      "metadata": {
        "id": "-fTEgSsnUAOG",
        "colab_type": "code",
        "colab": {}
      },
      "source": [
        "# fiting train data in model\n",
        "from sklearn.model_selection import ShuffleSplit,cross_validate\n",
        "\n",
        "\n",
        "def get_model_predictions_result(model_object,X,y):\n",
        "  #set name and parameters\n",
        "  final_result = {}\n",
        "  final_result['Algo_name'] = model_object.__class__.__name__\n",
        "  cv_results = model_selection.cross_validate(model_object, X, y, cv  = model_shuffleSplit_train_test(10,.25),return_train_score=True)\n",
        "  final_result['Time'] = cv_results['fit_time'].mean()\n",
        "  final_result['Train Accuracy'] = cv_results['train_score'].mean()\n",
        "  final_result['Test Accuracy'] = cv_results['test_score'].mean()   \n",
        "  #if this is a non-bias random sample, then +/-3 standard deviations (std) from the mean, should statistically capture 99.7% of the subsets\n",
        "  final_result['Test Accuracy 3*STD'] = cv_results['test_score'].std()*3\n",
        "  return final_result\n",
        "\n"
      ],
      "execution_count": 0,
      "outputs": []
    },
    {
      "cell_type": "code",
      "metadata": {
        "id": "ytEKJeJdZDFi",
        "colab_type": "code",
        "colab": {}
      },
      "source": [
        "from sklearn.metrics import confusion_matrix,auc,roc_auc_score, classification_report\n",
        "from sklearn.metrics import recall_score, precision_score, accuracy_score, f1_score\n",
        "\n",
        "def print_scores(y_test,y_pred,y_pred_prob):\n",
        "    print('test-set confusion matrix:\\n', confusion_matrix(y_test,y_pred)) \n",
        "    print (\"The Classification Report: \\n\", classification_report(y_test, y_pred))\n",
        "    print(\"recall score: \", recall_score(y_test,y_pred))\n",
        "    print(\"precision score: \", precision_score(y_test,y_pred))\n",
        "    print(\"f1 score: \", f1_score(y_test,y_pred))\n",
        "    print(\"accuracy score: \", accuracy_score(y_test,y_pred))\n",
        "    print(\"ROC AUC: {}\".format(roc_auc_score(y_test, y_pred_prob[:,1])))"
      ],
      "execution_count": 0,
      "outputs": []
    },
    {
      "cell_type": "code",
      "metadata": {
        "id": "ZJayAIxSUARJ",
        "colab_type": "code",
        "colab": {}
      },
      "source": [
        "from sklearn.metrics import confusion_matrix,auc,roc_auc_score, classification_report\n",
        "\n",
        "def get_model_confusion_matrix(model_object,df,target_column,test_size = .25):\n",
        "  X_train,X_test,y_train,y_test = model_split_train_test(df,target_column,test_size)\n",
        "  result = model_object.fit(X_train,y_train)\n",
        "  y_pred = result.predict(X_test)\n",
        "  y_pred_prob = result.predict_proba(X_test)\n",
        "  return (y_test,y_pred,y_pred_prob) \n",
        "  "
      ],
      "execution_count": 0,
      "outputs": []
    },
    {
      "cell_type": "code",
      "metadata": {
        "id": "H59r2-dgUAUp",
        "colab_type": "code",
        "colab": {}
      },
      "source": [
        ""
      ],
      "execution_count": 0,
      "outputs": []
    },
    {
      "cell_type": "markdown",
      "metadata": {
        "id": "il-jVW_LKzMU",
        "colab_type": "text"
      },
      "source": [
        "### For Supervise learning"
      ]
    },
    {
      "cell_type": "code",
      "metadata": {
        "id": "kd06YSwwCDYB",
        "colab_type": "code",
        "colab": {}
      },
      "source": [
        "# Stratified K-Folds cross-validator for cross validation and make a train kfold csv file\n",
        "# for fold 0 some values(random) will be treated as test and remaing as train\n",
        "# for fold 1 some values(random) will be treated as test and remaing as train  and so on kfold column significants that\n",
        "# this is for taking control to your self\n",
        "\n",
        "\n",
        "from sklearn.model_selection import StratifiedKFold\n",
        "kfold = StratifiedKFold( n_splits=5, shuffle=True, random_state= 42 )\n",
        "\n",
        "for fold,(train_idx,test_idx) in enumerate(kfold.split(X = df.drop('Target_column',axis=1),y=df['Target_column'])):\n",
        "  print(fold,len(train_idx),len(test_idx))\n",
        "  df.loc[test_idx,'kfold'] = fold\n",
        "\n",
        "df.to_csv(\"train_fold.csv\", index = False) \n",
        " \n",
        "\n"
      ],
      "execution_count": 0,
      "outputs": []
    },
    {
      "cell_type": "markdown",
      "metadata": {
        "id": "Cvw5HcaD4SgS",
        "colab_type": "text"
      },
      "source": [
        "# Post Model Functions"
      ]
    },
    {
      "cell_type": "code",
      "metadata": {
        "id": "V12imK9h4WY9",
        "colab_type": "code",
        "colab": {}
      },
      "source": [
        ""
      ],
      "execution_count": 0,
      "outputs": []
    }
  ]
}